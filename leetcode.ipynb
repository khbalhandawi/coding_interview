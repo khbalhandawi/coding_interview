{
 "cells": [
  {
   "cell_type": "markdown",
   "metadata": {},
   "source": [
    "# Problem 1\n",
    "Roman numerals are represented by seven different symbols: `I`, `V`, `X`, `L`, `C`, `D` and `M`.\n",
    "\n",
    "| **Symbol**   | **Value**   |\n",
    "|--------------|-------------|\n",
    "| `I`          | `1`         |\n",
    "| `V`          | `5`         |\n",
    "| `X`          | `10`        |\n",
    "| `L`          | `50`        |\n",
    "| `C`          | `100`       |\n",
    "| `D`          | `500`       |\n",
    "| `M`          | `1000`      |\n",
    "\n",
    "For example, `2` is written as `II` in Roman numeral, just two ones added together. `12` is written as `XII`, which is simply `X + II`. The number `27` is written as `XXVII`, which is `XX` + `V` + `II`.\n",
    "\n",
    "Roman numerals are usually written largest to smallest from left to right. However, the numeral for four is not IIII. Instead, the number four is written as IV. Because the one is before the five we subtract it making four. The same principle applies to the number nine, which is written as IX. There are six instances where subtraction is used:\n",
    "\n",
    "* `I` can be placed before `V` (`5`) and `X` (`10`) to make `4` and `9`.\n",
    "* `X` can be placed before `L` (`50`) and `C` (`100`) to make `40` and `90`. \n",
    "* `C` can be placed before `D` (`500`) and `M` (`1000`) to make `400` and `900`.\n",
    "\n",
    "Given a roman numeral, convert it to an integer.\n",
    "\n",
    "**Test Cases**\n",
    "* `\"III\"`\n",
    "* `\"LVIII\"`\n",
    "* `\"MCMXCIV\"`"
   ]
  },
  {
   "cell_type": "code",
   "execution_count": 9,
   "metadata": {},
   "outputs": [
    {
     "name": "stdout",
     "output_type": "stream",
     "text": [
      "1994\n"
     ]
    }
   ],
   "source": [
    "class Solution:\n",
    "    def romanToInt(self, s_in: str) -> int:\n",
    "        map = {\n",
    "            \"b\":    0,\n",
    "            \"I\":    1,\n",
    "            \"V\":    5,\n",
    "            \"X\":    10,\n",
    "            \"L\":    50,\n",
    "            \"C\":    100,\n",
    "            \"D\":    500,\n",
    "            \"M\":    1000,\n",
    "            \"a\":    100000\n",
    "        }\n",
    "\n",
    "        s = \"a\" + s_in + \"b\"\n",
    "\n",
    "        sum = 0 # initialize sum\n",
    "        for i in range(1,len(s_in)+1):\n",
    "            if map[s[i]] < map[s[i-1]] and map[s[i+1]] > map[s[i]]:\n",
    "                # decrease because of decrement\n",
    "                sum -= map[s[i]]\n",
    "            else: # decrease because of increment\n",
    "                sum += map[s[i]]\n",
    "\n",
    "        return sum\n",
    "\n",
    "s = Solution()\n",
    "print(s.romanToInt(\"MCMXCIV\"))\n",
    "\n"
   ]
  },
  {
   "cell_type": "markdown",
   "metadata": {},
   "source": [
    "# Problem 2\n",
    "Given an array of characters `chars`, compress it using the following algorithm:\n",
    "\n",
    "Begin with an empty string `s`. For each group of **consecutive repeating characters** in `chars`:\n",
    "\n",
    "* If the group's length is `1`, append the character to `s`.\n",
    "* Otherwise, append the character followed by the group's length.\n",
    "\n",
    "The compressed string `s` **should not be returned separately**, but instead, be stored **in the input character array** **`chars`**. Note that group lengths that are `10` or longer will be split into multiple characters in `chars`.\\\n",
    "After you are done **modifying the input array**, return the *new length of the array*.\\\n",
    "You must write an algorithm that uses only constant extra space.\n",
    "\n",
    "**Example 1:**\\\n",
    "Input: `chars = [\"a\",\"a\",\"b\",\"b\",\"c\",\"c\",\"c\"]`\\\n",
    "Output: Return `6`, and the first `6` characters of the input array should be: `[\"a\",\"2\",\"b\",\"2\",\"c\",\"3\"]`\\\n",
    "Explanation: The groups are `\"aa\"`, `\"bb\"`, and `\"ccc\"`. This compresses to `\"a2b2c3\"`.\n",
    "\n",
    "**Example 2:**\\\n",
    "**Input:** `chars = [\"a\"]`\\\n",
    "**Output:** Return `1`, and the first character of the input array should be: `[\"a\"]`.\\\n",
    "**Explanation:** The only group is `\"a\"`, which remains uncompressed since it's a single character.\n",
    "\n",
    "**Example 3:**\\\n",
    "**Input:** `chars = [\"a\",\"b\",\"b\",\"b\",\"b\",\"b\",\"b\",\"b\",\"b\",\"b\",\"b\",\"b\",\"b\"]`\\\n",
    "**Output:** Return `4`, and the first `4` characters of the input array should be: `[\"a\",\"b\",\"1\",\"2\"]`.\\\n",
    "**Explanation:** The groups are `\"a\"` and `\"bbbbbbbbbbbb\"`. This compresses to `\"ab12\"`.\n",
    "\n",
    "\n",
    "**Constraints:**\n",
    "* `1 <= chars.length <= 2000`\n",
    "* `chars[i]` is a lowercase English letter, uppercase English letter, digit, or symbol."
   ]
  },
  {
   "cell_type": "code",
   "execution_count": 10,
   "metadata": {},
   "outputs": [
    {
     "name": "stdout",
     "output_type": "stream",
     "text": [
      "['a', '2', 'b', '2', 'c', '3']\n"
     ]
    }
   ],
   "source": [
    "from typing import List\n",
    "\n",
    "class Solution:\n",
    "    def compress(self, chars: List[str]) -> int:\n",
    "        \n",
    "        cur = None; i = 0; n_append = 0\n",
    "        while i < len(chars)-n_append:\n",
    "            j = i\n",
    "            num = 0\n",
    "            while j < len(chars)-n_append and chars[j] == chars[i]:\n",
    "                \n",
    "                num += 1\n",
    "                j += 1\n",
    "\n",
    "            chars.append(chars[i])\n",
    "            n_append += 1\n",
    "            chars = chars[j:]\n",
    "            if num > 1:\n",
    "                for digit in list(str(num)):\n",
    "                    chars.append(digit)\n",
    "                    n_append += 1\n",
    "\n",
    "            i = 0\n",
    "\n",
    "        return chars, len(chars)\n",
    "\n",
    "chars = [\"a\",\"a\",\"b\",\"b\",\"c\",\"c\",\"c\"]\n",
    "# chars = [\"a\",]\n",
    "# chars = [\"a\",\"b\",\"b\",\"b\",\"b\",\"b\",\"b\",\"b\",\"b\",\"b\",\"b\",\"b\",\"b\"]\n",
    "sol = Solution()\n",
    "c_new, n = sol.compress(chars=chars)\n",
    "print(c_new)"
   ]
  },
  {
   "cell_type": "markdown",
   "metadata": {},
   "source": [
    "# Problem 3\n",
    "\n",
    "Given an array `ranks` of ranks of students in a school. All students need to be split into groups `k`. Find the total 'imbalance' of all groups. An imabalance of a group can be found as:\n",
    "\n",
    "* Sorting each group in the order of their ranks.\n",
    "* A group contributes to imbalance if any 2 students in the sorted array have a rank difference of more than 1.\n",
    "\n",
    "Find the total sum of imbalance of all such groups.\n",
    "\n",
    "This is an example :\n",
    "**given**: `[4,1,3,2]`\n",
    "\n",
    "| **Symbol**    | **Imbalance** |\n",
    "|---------------|---------------|\n",
    "| `[1]`         | `0`           |\n",
    "| `[2]`         | `0`           |\n",
    "| `[3]`         | `0`           |\n",
    "| `[4]`         | `0`           |\n",
    "| `[4,1]`       | `1`           |\n",
    "| `[4,3]`       | `0`           |\n",
    "| `[4,2]`       | `1`           |\n",
    "| `[4,1,3,2]`   | `0`           |\n",
    "| `[1,3]`       | `1`           |\n",
    "| `[1,2]`       | `0`           |\n",
    "| `[3,2]`       | `0`           |\n",
    "\n",
    "Answer `= 1 + 1 + 1 = 3`"
   ]
  },
  {
   "cell_type": "code",
   "execution_count": 11,
   "metadata": {},
   "outputs": [
    {
     "name": "stdout",
     "output_type": "stream",
     "text": [
      "3\n"
     ]
    }
   ],
   "source": [
    "#!/bin/python3\n",
    "\n",
    "import math\n",
    "import os\n",
    "import random\n",
    "import re\n",
    "import sys\n",
    "\n",
    "#\n",
    "# Complete the 'findTotalImbalance' function below.\n",
    "#\n",
    "# The function is expected to return a LONG_INTEGER.\n",
    "# The function accepts INTEGER_ARRAY rank as parameter.\n",
    "#\n",
    "\"\"\"\n",
    "First we need to generate all the possible groups from a given list of ranks\n",
    "Then for each group we calculate the imbalance by first sorting\n",
    "\"\"\"\n",
    "def genPermutations(rank):\n",
    "    perms = []\n",
    "    for i in range(len(rank)+1):\n",
    "        for j in range(i+1, len(rank)+1):\n",
    "            set_add = set(rank[i:j])\n",
    "            add_set = True\n",
    "            for set_i in perms:\n",
    "                if set_i == set_add:\n",
    "                    add_set = False\n",
    "            if add_set:\n",
    "                perms+=[set_add]\n",
    "            \n",
    "    return perms\n",
    "\n",
    "def findTotalImbalance(rank):\n",
    "    # Write your code here\n",
    "    \n",
    "    groups = genPermutations(rank)\n",
    "    total_imb = 0\n",
    "    imb_vector = []\n",
    "    for group in groups:\n",
    "        group = sorted(group)    \n",
    "        diff = [group[i] - group[i-1] for i in range(1,len(group))] # this is the difference\n",
    "        imb = 0\n",
    "        for d in diff:\n",
    "            if d > 1:\n",
    "                imb += 1\n",
    "                \n",
    "        total_imb += imb\n",
    "        \n",
    "    return total_imb\n",
    "            \n",
    "rank = [4,4,1,3,2]\n",
    "g = genPermutations(rank)\n",
    "result = findTotalImbalance(rank)\n",
    "\n",
    "print(result)\n"
   ]
  }
 ],
 "metadata": {
  "kernelspec": {
   "display_name": "Python 3.7.9 ('.env': venv)",
   "language": "python",
   "name": "python3"
  },
  "language_info": {
   "codemirror_mode": {
    "name": "ipython",
    "version": 3
   },
   "file_extension": ".py",
   "mimetype": "text/x-python",
   "name": "python",
   "nbconvert_exporter": "python",
   "pygments_lexer": "ipython3",
   "version": "3.7.9"
  },
  "orig_nbformat": 4,
  "vscode": {
   "interpreter": {
    "hash": "2bd8bacfe8acdd5db92e0402ad3c3f2bdec2e4e95a6257932dc09663503846d3"
   }
  }
 },
 "nbformat": 4,
 "nbformat_minor": 2
}
